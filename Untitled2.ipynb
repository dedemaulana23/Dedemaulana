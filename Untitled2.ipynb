{
  "nbformat": 4,
  "nbformat_minor": 0,
  "metadata": {
    "colab": {
      "provenance": [],
      "authorship_tag": "ABX9TyP/s5dHlRTZ1sV1CFpsOuzg",
      "include_colab_link": true
    },
    "kernelspec": {
      "name": "python3",
      "display_name": "Python 3"
    },
    "language_info": {
      "name": "python"
    }
  },
  "cells": [
    {
      "cell_type": "markdown",
      "metadata": {
        "id": "view-in-github",
        "colab_type": "text"
      },
      "source": [
        "<a href=\"https://colab.research.google.com/github/dedemaulana23/Dedemaulana/blob/main/Untitled2.ipynb\" target=\"_parent\"><img src=\"https://colab.research.google.com/assets/colab-badge.svg\" alt=\"Open In Colab\"/></a>"
      ]
    },
    {
      "cell_type": "code",
      "source": [
        "nama = 'dede maulana'\n",
        "mata_kuliah = 'dasar pemprograman'\n",
        "\n",
        "print (f'hallo ! selamat datang {nama}, selamat belajar {mata_kuliah} !')"
      ],
      "metadata": {
        "colab": {
          "base_uri": "https://localhost:8080/"
        },
        "id": "7RZrFf4b84RV",
        "outputId": "fb312335-d451-4161-a50f-fc3bb928a2e1"
      },
      "execution_count": 2,
      "outputs": [
        {
          "output_type": "stream",
          "name": "stdout",
          "text": [
            "hallo ! selamat datang dede maulana, selamat belajar dasar pemprograman !\n"
          ]
        }
      ]
    },
    {
      "cell_type": "code",
      "source": [
        "print (\"Program konversi suhu fahrenheit ke celcius\")\n",
        "print(\"==============================================\")\n",
        "\n",
        "fahrenheit  = eval (input('masukan suhu dalam fahrenheit: '))\n",
        "celcius = (5/9)*(fahrenheit-32)\n",
        "print('suhu dalam celcius adalah : %f' %(celcius))"
      ],
      "metadata": {
        "colab": {
          "base_uri": "https://localhost:8080/"
        },
        "id": "IEYkI4VI9F3C",
        "outputId": "d54d2329-4712-4073-da9c-68e81ff2ba86"
      },
      "execution_count": 3,
      "outputs": [
        {
          "output_type": "stream",
          "name": "stdout",
          "text": [
            "Program konversi suhu fahrenheit ke celcius\n",
            "==============================================\n",
            "masukan suhu dalam fahrenheit: 50\n",
            "suhu dalam celcius adalah : 10.000000\n"
          ]
        }
      ]
    }
  ]
}